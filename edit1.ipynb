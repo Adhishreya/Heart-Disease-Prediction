import numpy as np # linear algebra	
import pandas as pd # data processing, CSV file I/O (e.g. pd.read_csv)	
import matplotlib.pyplot as plt	
import seaborn as sns	
from sklearn.feature_selection import SelectKBest,chi2,f_classif	
from sklearn.model_selection import  train_test_split,KFold,GridSearchCV,StratifiedShuffleSplit,cross_val_score,RandomizedSearchCV	
from sklearn.linear_model import LogisticRegression,LogisticRegressionCV	
from sklearn.preprocessing import StandardScaler	
from sklearn.svm import SVC	
from xgboost import XGBClassifier	
from sklearn.naive_bayes import GaussianNB	
from sklearn.tree import DecisionTreeClassifier	
from sklearn.neural_network import MLPClassifier	
from sklearn.ensemble import RandomForestClassifier,VotingClassifier	
from sklearn.metrics import confusion_matrix,accuracy_score,plot_confusion_matrix	
%matplotlib inline
